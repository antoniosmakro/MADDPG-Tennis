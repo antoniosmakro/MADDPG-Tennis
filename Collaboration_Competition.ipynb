{
 "cells": [
  {
   "cell_type": "markdown",
   "metadata": {},
   "source": [
    "# MADDPG - Tennis\n",
    "\n",
    "---\n",
    "\n",
    "In this notebook, we will train an agent to navigate the Unity ML-Agents Tennis environment. In this environment, two agents control rackets to bounce a ball over a net. The goal of each agent is to keep the ball in play. The training algorithm that is used for training is MADDPG, implemented in PyTorch.\n",
    "\n",
    "### 1. Import Required Packages\n",
    "\n",
    "We begin by importing some necessary packages. If the code cell below returns an error, please revisit the project instructions on the README.md file."
   ]
  },
  {
   "cell_type": "code",
   "execution_count": null,
   "metadata": {},
   "outputs": [],
   "source": [
    "from unityagents import UnityEnvironment\n",
    "import numpy as np\n",
    "from maddpg import MADDPG\n",
    "import torch\n",
    "\n",
    "from collections import deque\n",
    "\n",
    "import matplotlib.pyplot as plt\n",
    "%matplotlib inline"
   ]
  },
  {
   "cell_type": "markdown",
   "metadata": {},
   "source": [
    "We set the hyperparameters we will use later during the MADDPG implementation. The values are chosen using trial and error and from RL baselines"
   ]
  },
  {
   "cell_type": "code",
   "execution_count": null,
   "metadata": {},
   "outputs": [],
   "source": [
    "BUFFER_SIZE = int(1e5)  # replay buffer size\n",
    "BATCH_SIZE = 256        # minibatch size\n",
    "GAMMA = 0.99            # discount factor\n",
    "TAU = 1e-2              # for soft update of target parameters\n",
    "LR = 2e-4               # learning rate of the actor and of the critic\n",
    "WEIGHT_DECAY = 0.0      # L2 weight decay"
   ]
  },
  {
   "cell_type": "markdown",
   "metadata": {},
   "source": [
    "Next, we will start the environment!  **_Before running the code cell below_**, change the `file_name` parameter to match the location of the Unity environment that you downloaded.\n",
    "\n",
    "- **Mac**: `\"path/to/Tennis.app\"`\n",
    "- **Windows** (x86): `\"path/to/Tennis_Windows_x86/Tennis.exe\"`\n",
    "- **Windows** (x86_64): `\"path/to/Tennis_Windows_x86_64/Tennis.exe\"`\n",
    "- **Linux** (x86): `\"path/to/Tennis_Linux/Tennis.x86\"`\n",
    "- **Linux** (x86_64): `\"path/to/Tennis_Linux/Tennis.x86_64\"`\n",
    "- **Linux** (x86, headless): `\"path/to/Tennis_Linux_NoVis/Tennis.x86\"`\n",
    "- **Linux** (x86_64, headless): `\"path/to/Tennis_Linux_NoVis/Tennis.x86_64\"`\n",
    "\n",
    "For instance, if you are using a Mac, then you downloaded `Tennis.app`.  If this file is in the same folder as the notebook, then the line below should appear as follows:\n",
    "```\n",
    "env = UnityEnvironment(file_name=\"Tennis.app\")\n",
    "```"
   ]
  },
  {
   "cell_type": "code",
   "execution_count": null,
   "metadata": {},
   "outputs": [],
   "source": [
    "env = UnityEnvironment(file_name='Tennis.app')"
   ]
  },
  {
   "cell_type": "markdown",
   "metadata": {},
   "source": [
    "Environments contain **_brains_** which are responsible for deciding the actions of their associated agents. Here we check for the first brain available, and set it as the default brain we will be controlling from Python."
   ]
  },
  {
   "cell_type": "code",
   "execution_count": null,
   "metadata": {},
   "outputs": [],
   "source": [
    "# get the default brain\n",
    "brain_name = env.brain_names[0]\n",
    "brain = env.brains[brain_name]"
   ]
  },
  {
   "cell_type": "markdown",
   "metadata": {},
   "source": [
    "### 2. Examine the State and Action Spaces\n",
    "\n",
    "In this environment, two agents control rackets to bounce a ball over a net. If an agent hits the ball over the net, it receives a reward of +0.1.  If an agent lets a ball hit the ground or hits the ball out of bounds, it receives a reward of -0.01.  Thus, the goal of each agent is to keep the ball in play.\n",
    "\n",
    "The observation space consists of 8 variables corresponding to the position and velocity of the ball and racket. Two continuous actions are available, corresponding to movement toward (or away from) the net, and jumping. \n",
    "\n",
    "Run the code cell below to print some information about the environment."
   ]
  },
  {
   "cell_type": "code",
   "execution_count": null,
   "metadata": {},
   "outputs": [],
   "source": [
    "# reset the environment\n",
    "env_info = env.reset(train_mode=True)[brain_name]\n",
    "\n",
    "# number of agents \n",
    "num_agents = len(env_info.agents)\n",
    "print('Number of agents:', num_agents)\n",
    "\n",
    "# size of each action\n",
    "action_size = brain.vector_action_space_size\n",
    "print('Size of each action:', action_size)\n",
    "\n",
    "# examine the state space \n",
    "states = env_info.vector_observations\n",
    "state_size = states.shape[1]\n",
    "print('There are {} agents. Each observes a state with length: {}'.format(states.shape[0], state_size))\n",
    "print('The state for the first agent looks like:', states[0])"
   ]
  },
  {
   "cell_type": "markdown",
   "metadata": {},
   "source": [
    "### 3. Train Agent\n",
    "\n",
    "The code below initiates the agents and starts the training loop. Once the average reward over 100 episodes reaches 0.5, the training stops and for each agent(i), the weights are saved in  **_checkpoint\\_maddpg\\_actor(i).pth_** for the actor network and **_checkpoint\\_maddpg\\_critic(i).pth_** for the critic network."
   ]
  },
  {
   "cell_type": "code",
   "execution_count": null,
   "metadata": {},
   "outputs": [],
   "source": [
    "# initialise agents\n",
    "agents = MADDPG(\n",
    "    state_size=state_size, \n",
    "    action_size=action_size, \n",
    "    num_agents=num_agents, \n",
    "    random_seed=0,\n",
    "    buffer_size = BUFFER_SIZE,\n",
    "    batch_size = BATCH_SIZE,\n",
    "    gamma = GAMMA,\n",
    "    tau = TAU,\n",
    "    lr = LR,\n",
    "    weight_decay = WEIGHT_DECAY\n",
    ")"
   ]
  },
  {
   "cell_type": "code",
   "execution_count": null,
   "metadata": {},
   "outputs": [],
   "source": [
    "def maddpg(n_episodes=1000):\n",
    "   \n",
    "    total_scores = []                                       # list containing scores from each episode\n",
    "    scores_window = deque(maxlen=100)                       # last 100 scores\n",
    "    agents.reset()                                          # reset both agents noise\n",
    "    for i_episode in range(1, n_episodes+1):\n",
    "        env_info = env.reset(train_mode=True)[brain_name]   # reset the environment\n",
    "        states = env_info.vector_observations               # get the current state (for each agent)          \n",
    "        scores = np.zeros(num_agents)                       # initialize the score (for each agent)\n",
    "        while True:\n",
    "            actions = agents.act(states)                    # select an action (for each agent)\n",
    "            env_info = env.step(actions)[brain_name]        # send all actions to tne environment\n",
    "            next_states = env_info.vector_observations      # get next state (for each agent)  \n",
    "            rewards = env_info.rewards                      # get reward (for each agent)  \n",
    "            dones = env_info.local_done                     # see if episodes finished\n",
    "            agents.step(states, actions, rewards, next_states, dones)\n",
    "            scores += rewards\n",
    "            states = next_states                                          \n",
    "            if np.any(dones):\n",
    "                break \n",
    "        \n",
    "        score = np.max(scores)         # get the max reward from the two agent rewards\n",
    "        scores_window.append(score)    # save most recent score\n",
    "        total_scores.append(score)     # save scores without deque to plot later\n",
    "\n",
    "        print('\\rEpisode {}\\tAverage Score: {:.4f}'.format(i_episode, np.mean(scores_window), end=\"\"))\n",
    "\n",
    "        if np.mean(scores_window) >= 0.5:\n",
    "            print('\\nEnvironment solved in {:d} episodes!\\tAverage Score: {:.4f}'.format(i_episode, np.mean(scores_window)))\n",
    "            for i, Agent in enumerate(agents.agents):\n",
    "                torch.save(Agent.actor_local.state_dict(),  f\"checkpoint_maddpg_actor_agent_{i}.pth\")\n",
    "                torch.save(Agent.critic_local.state_dict(), f\"checkpoint_maddpg_critic_agent_{i}.pth\")\n",
    "            break\n",
    "        \n",
    "    return total_scores\n",
    "\n",
    "scores = maddpg()    "
   ]
  },
  {
   "cell_type": "markdown",
   "metadata": {},
   "source": [
    "### 4. Plot Scores\n",
    "\n",
    "Once training has finished we can plot the average reward across all episodes."
   ]
  },
  {
   "cell_type": "code",
   "execution_count": null,
   "metadata": {},
   "outputs": [],
   "source": [
    "# plot the scores\n",
    "fig = plt.figure()\n",
    "ax = fig.add_subplot(111)\n",
    "plt.plot(np.arange(len(scores)), scores)\n",
    "plt.ylabel('Score')\n",
    "plt.xlabel('Episode #')\n",
    "plt.show()"
   ]
  },
  {
   "cell_type": "markdown",
   "metadata": {},
   "source": [
    "### 5. Test Trained Agent on Environment\n",
    "Once this cell is executed, we can watch the agents' performance for one episode."
   ]
  },
  {
   "cell_type": "code",
   "execution_count": null,
   "metadata": {},
   "outputs": [],
   "source": [
    "env_info = env.reset(train_mode=False)[brain_name]            # reset the environment    \n",
    "states = env_info.vector_observations                         # get the current state (for each agent)\n",
    "scores = np.zeros(num_agents)                                 # initialize the score (for each agent)\n",
    "while True:\n",
    "    actions = agents.act(states)                               # select an action (for each agent)\n",
    "    env_info = env.step(actions)[brain_name]                   # send all actions to tne environment\n",
    "    next_states = env_info.vector_observations                 # get next state (for each agent)\n",
    "    rewards = env_info.rewards                                 # get reward (for each agent)\n",
    "    dones = env_info.local_done                                # see if episode finished\n",
    "    scores += env_info.rewards                                 # update the score (for each agent)\n",
    "    states = next_states                                       # roll over states to next time step\n",
    "    if np.any(dones):                                          # exit loop if episode finished\n",
    "        break\n",
    "print('Total score (averaged over agents) this episode: {}'.format(np.mean(scores)))"
   ]
  },
  {
   "cell_type": "markdown",
   "metadata": {},
   "source": [
    "### 6. Load Saved Weights and Test on Environment\n",
    "Load the checkpoint weights to check the saved agents' performance for one episode."
   ]
  },
  {
   "cell_type": "code",
   "execution_count": null,
   "metadata": {},
   "outputs": [],
   "source": [
    "\n",
    "# load the weights from file\n",
    "for i, Agent in enumerate(agents.agents):\n",
    "    Agent.actor_local.load_state_dict(torch.load(f\"checkpoint_maddpg_actor_agent_{i}.pth\"))\n",
    "    Agent.critic_local.load_state_dict(torch.load(f\"checkpoint_maddpg_critic_agent_{i}.pth\"))\n",
    "\n",
    "env_info = env.reset(train_mode=False)[brain_name]            # reset the environment    \n",
    "states = env_info.vector_observations                         # get the current state (for each agent)\n",
    "scores = np.zeros(num_agents)                                 # initialize the score (for each agent)\n",
    "while True:\n",
    "    actions = agents.act(states)                               # select an action (for each agent)\n",
    "    env_info = env.step(actions)[brain_name]                   # send all actions to tne environment\n",
    "    next_states = env_info.vector_observations                 # get next state (for each agent)\n",
    "    rewards = env_info.rewards                                 # get reward (for each agent)\n",
    "    dones = env_info.local_done                                # see if episode finished\n",
    "    scores += env_info.rewards                                 # update the score (for each agent)\n",
    "    states = next_states                                       # roll over states to next time step\n",
    "    if np.any(dones):                                          # exit loop if episode finished\n",
    "        break\n",
    "print('Total score (averaged over agents) this episode: {}'.format(np.mean(scores)))  "
   ]
  },
  {
   "cell_type": "markdown",
   "metadata": {},
   "source": [
    "When finished, you can close the environment."
   ]
  },
  {
   "cell_type": "code",
   "execution_count": null,
   "metadata": {},
   "outputs": [],
   "source": [
    "env.close()"
   ]
  }
 ],
 "metadata": {
  "kernelspec": {
   "display_name": "rlu",
   "language": "python",
   "name": "rlu"
  },
  "language_info": {
   "codemirror_mode": {
    "name": "ipython",
    "version": 3
   },
   "file_extension": ".py",
   "mimetype": "text/x-python",
   "name": "python",
   "nbconvert_exporter": "python",
   "pygments_lexer": "ipython3",
   "version": "3.6.13"
  },
  "vscode": {
   "interpreter": {
    "hash": "f4e49ba48caa995cbf9af28f0f88761b21e99dea5211ea615817967947354016"
   }
  }
 },
 "nbformat": 4,
 "nbformat_minor": 2
}
